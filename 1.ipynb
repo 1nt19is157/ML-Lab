{
 "cells": [
  {
   "cell_type": "code",
   "execution_count": null,
   "id": "aec2ded3",
   "metadata": {},
   "outputs": [],
   "source": [
    "import math\n",
    "arr = []\n",
    "sum = 0\n",
    "for i in range(0,10):\n",
    "    inp = float(input())\n",
    "    arr.append(inp)\n",
    "    sum = sum + inp\n",
    "    \n",
    "mean = sum/10\n",
    "print(\"mean\",mean)\n",
    "arr.sort()\n",
    "mid = len(arr)//2\n",
    "med = (arr[mid]+arr[mid+1])/2\n",
    "print(\"median=\",med)\n",
    "count = 1\n",
    "m=0\n",
    "diff=0.0\n",
    "var=0.0\n",
    "mod=0.0\n",
    "for i in range(0,10):\n",
    "    for j in range(i+1,10):\n",
    "        if arr[i]==arr[j]:\n",
    "            count=count+1\n",
    "    if count>m:\n",
    "        m=count\n",
    "        mod=arr[i]\n",
    "if m==1:\n",
    "    print(\"No mode\")\n",
    "else:\n",
    "    print(\"mode=\",mod)\n",
    "    \n",
    "for i in arr:\n",
    "    diff=i-mean\n",
    "    var=var+(diff**2)\n",
    "print(\"variance=\",var)\n",
    "stdev=math.sqrt(var)\n",
    "print(\"std deviation\",stdev)\n",
    "diff = arr[9]-arr[0]\n",
    "print(\"min max normalization\")\n",
    "for i in arr:\n",
    "    y = (i-arr[0]/diff)\n",
    "    print(y)\n",
    "print(\"Standardization\")\n",
    "for i in arr:\n",
    "    stn = (i-mean)/stdev\n",
    "    print(stn)\n"
   ]
  },
  {
   "cell_type": "code",
   "execution_count": null,
   "id": "cdb75945",
   "metadata": {},
   "outputs": [],
   "source": []
  }
 ],
 "metadata": {
  "kernelspec": {
   "display_name": "Python 3 (ipykernel)",
   "language": "python",
   "name": "python3"
  },
  "language_info": {
   "codemirror_mode": {
    "name": "ipython",
    "version": 3
   },
   "file_extension": ".py",
   "mimetype": "text/x-python",
   "name": "python",
   "nbconvert_exporter": "python",
   "pygments_lexer": "ipython3",
   "version": "3.10.6"
  }
 },
 "nbformat": 4,
 "nbformat_minor": 5
}
